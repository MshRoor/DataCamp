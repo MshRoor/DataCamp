{
 "cells": [
  {
   "cell_type": "markdown",
   "metadata": {},
   "source": [
    "Importing Python modules"
   ]
  },
  {
   "cell_type": "code",
   "execution_count": null,
   "metadata": {},
   "outputs": [],
   "source": [
    "# Use an import statement to import statsmodels\n",
    "import statsmodels"
   ]
  },
  {
   "cell_type": "markdown",
   "metadata": {},
   "source": [
    "Correcting a broken import"
   ]
  },
  {
   "cell_type": "code",
   "execution_count": null,
   "metadata": {},
   "outputs": [],
   "source": [
    "# Fix the import of numpy to run without errors\n",
    "import numpy as np"
   ]
  },
  {
   "cell_type": "markdown",
   "metadata": {},
   "source": [
    "Question\n",
    "What did you need to change to make the import run without errors?\n",
    "\n",
    "Ans: Python is case-sensitive, so numpy must be all lowercase."
   ]
  },
  {
   "cell_type": "markdown",
   "metadata": {},
   "source": []
  },
  {
   "cell_type": "markdown",
   "metadata": {},
   "source": [
    "Creating a float"
   ]
  },
  {
   "cell_type": "code",
   "execution_count": null,
   "metadata": {},
   "outputs": [],
   "source": [
    "# Fill in Bayes' age (4.0)\n",
    "bayes_age = 4.0\n",
    "\n",
    "# Display the variable bayes_age\n",
    "print(bayes_age)"
   ]
  },
  {
   "cell_type": "markdown",
   "metadata": {},
   "source": [
    "Creating strings"
   ]
  },
  {
   "cell_type": "code",
   "execution_count": null,
   "metadata": {},
   "outputs": [],
   "source": [
    "# Bayes' favorite toy\n",
    "favorite_toy = 'Mr. Squeaky'\n",
    "\n",
    "# Bayes' owner\n",
    "owner = 'DataCamp'\n",
    "\n",
    "# Display variables\n",
    "print(favorite_toy)\n",
    "print(owner)"
   ]
  },
  {
   "cell_type": "markdown",
   "metadata": {},
   "source": [
    "Correcting string errors"
   ]
  },
  {
   "cell_type": "code",
   "execution_count": null,
   "metadata": {},
   "outputs": [],
   "source": [
    "# One or more of the following lines contains an error\n",
    "# Correct it so that it runs without producing syntax errors\n",
    "birthday = '2017-07-14'\n",
    "case_id = 'DATACAMP!123-456?'"
   ]
  },
  {
   "cell_type": "markdown",
   "metadata": {},
   "source": [
    "Valid variable names"
   ]
  },
  {
   "cell_type": "markdown",
   "metadata": {},
   "source": [
    "Question\n",
    "Which of the following is not a valid variable name?\n",
    "Ans: 3 Dogs"
   ]
  },
  {
   "cell_type": "markdown",
   "metadata": {},
   "source": []
  },
  {
   "cell_type": "markdown",
   "metadata": {},
   "source": [
    "Load a DataFrame"
   ]
  },
  {
   "cell_type": "code",
   "execution_count": null,
   "metadata": {},
   "outputs": [],
   "source": [
    "# Import pandas\n",
    "import pandas as pd\n",
    "\n",
    "# Load the 'ransom.csv' into a DataFrame\n",
    "r = pd.read_csv('ransom.csv')\n",
    "\n",
    "# Display DataFrame\n",
    "print(r)"
   ]
  },
  {
   "cell_type": "markdown",
   "metadata": {},
   "source": [
    "Correcting a function error"
   ]
  },
  {
   "cell_type": "code",
   "execution_count": null,
   "metadata": {},
   "outputs": [],
   "source": [
    "# One or more of the following lines contains an error\n",
    "# Correct it so that it runs without producing syntax errors\n",
    "\n",
    "# Plot a graph\n",
    "plt.plot(x_values, y_values)\n",
    "\n",
    "# Display the graph\n",
    "plt.show()"
   ]
  },
  {
   "cell_type": "markdown",
   "metadata": {},
   "source": [
    "Snooping for suspects"
   ]
  },
  {
   "cell_type": "code",
   "execution_count": null,
   "metadata": {},
   "outputs": [],
   "source": [
    "# Define plate to represent a plate beginning with FRQ\n",
    "# Use * to represent the missing four letters\n",
    "plate = 'FRQ****'"
   ]
  },
  {
   "cell_type": "code",
   "execution_count": null,
   "metadata": {},
   "outputs": [],
   "source": [
    "# Define plate to represent a plate beginning with FRQ\n",
    "# Use * to represent the missing four letters\n",
    "plate = 'FRQ****'\n",
    "\n",
    "# Call the function lookup_plate()\n",
    "lookup_plate(plate)"
   ]
  },
  {
   "cell_type": "code",
   "execution_count": null,
   "metadata": {},
   "outputs": [],
   "source": [
    "# Define plate to represent a plate beginning with FRQ\n",
    "# Use * to represent the missing four letters\n",
    "plate = 'FRQ****'\n",
    "\n",
    "# Call the function lookup_plate()\n",
    "lookup_plate(plate)\n",
    "\n",
    "# Call lookup_plate() with the keyword argument for color\n",
    "lookup_plate(plate, color = 'Green')"
   ]
  }
 ],
 "metadata": {
  "kernelspec": {
   "display_name": "Python 3.10.7 64-bit",
   "language": "python",
   "name": "python3"
  },
  "language_info": {
   "name": "python",
   "version": "3.10.7"
  },
  "orig_nbformat": 4,
  "vscode": {
   "interpreter": {
    "hash": "c6028a8a5a12648e78fa32d0f161bce4cccc9ded56ee541b56c5f14e4c0285c4"
   }
  }
 },
 "nbformat": 4,
 "nbformat_minor": 2
}
