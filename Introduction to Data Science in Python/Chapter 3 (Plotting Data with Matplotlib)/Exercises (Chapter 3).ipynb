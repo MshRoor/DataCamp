{
 "cells": [
  {
   "cell_type": "markdown",
   "metadata": {},
   "source": [
    "Working hard"
   ]
  },
  {
   "cell_type": "code",
   "execution_count": null,
   "metadata": {},
   "outputs": [],
   "source": [
    "# From matplotlib, import pyplot under the alias plt\n",
    "from matplotlib import pyplot as plt"
   ]
  },
  {
   "cell_type": "code",
   "execution_count": null,
   "metadata": {},
   "outputs": [],
   "source": [
    "# From matplotlib, import pyplot under the alias plt\n",
    "from matplotlib import pyplot as plt\n",
    "\n",
    "# Plot Officer Deshaun's hours_worked vs. day_of_week\n",
    "plt.plot(deshaun.day_of_week, deshaun.hours_worked)"
   ]
  },
  {
   "cell_type": "code",
   "execution_count": null,
   "metadata": {},
   "outputs": [],
   "source": [
    "# From matplotlib, import pyplot under the alias plt\n",
    "from matplotlib import pyplot as plt\n",
    "\n",
    "# Plot Officer Deshaun's hours_worked vs. day_of_week\n",
    "plt.plot(deshaun.day_of_week, deshaun.hours_worked)\n",
    "\n",
    "# Display Deshaun's plot\n",
    "plt.show()"
   ]
  },
  {
   "cell_type": "markdown",
   "metadata": {},
   "source": [
    "Or hardly working?"
   ]
  },
  {
   "cell_type": "code",
   "execution_count": null,
   "metadata": {},
   "outputs": [],
   "source": [
    "# Plot Officer Deshaun's hours_worked vs. day_of_week\n",
    "plt.plot(deshaun.day_of_week, deshaun.hours_worked)\n",
    "\n",
    "# Plot Officer Aditya's hours_worked vs. day_of_week\n",
    "plt.plot(aditya.day_of_week, aditya.hours_worked)\n",
    "\n",
    "# Plot Officer Mengfei's hours_worked vs. day_of_week\n",
    "plt.plot(mengfei.day_of_week, mengfei.hours_worked)\n",
    "\n",
    "# Display all three line plots\n",
    "plt.show()"
   ]
  },
  {
   "cell_type": "markdown",
   "metadata": {},
   "source": [
    "Question\n",
    "\n",
    "One of the officers was removed from the investigation on Wednesday because of an emergency at a different station house. That officer did not return on Thursday or Friday. Which color line represents that officer?\n",
    "\n",
    "Ans: orange"
   ]
  },
  {
   "cell_type": "markdown",
   "metadata": {},
   "source": []
  },
  {
   "cell_type": "markdown",
   "metadata": {},
   "source": [
    "Adding a legend"
   ]
  },
  {
   "cell_type": "code",
   "execution_count": null,
   "metadata": {},
   "outputs": [],
   "source": [
    "# Add a label to Deshaun's plot\n",
    "plt.plot(deshaun.day_of_week, deshaun.hours_worked, label = 'Deshaun')\n",
    "\n",
    "# Officer Aditya\n",
    "plt.plot(aditya.day_of_week, aditya.hours_worked)\n",
    "\n",
    "# Officer Mengfei\n",
    "plt.plot(mengfei.day_of_week, mengfei.hours_worked)\n",
    "\n",
    "# Display plot\n",
    "plt.show()"
   ]
  },
  {
   "cell_type": "code",
   "execution_count": null,
   "metadata": {},
   "outputs": [],
   "source": [
    "# Officer Deshaun\n",
    "plt.plot(deshaun.day_of_week, deshaun.hours_worked, label='Deshaun')\n",
    "\n",
    "# Add a label to Aditya's plot\n",
    "plt.plot(aditya.day_of_week, aditya.hours_worked, label='Aditya')\n",
    "\n",
    "# Add a label to Mengfei's plot\n",
    "plt.plot(mengfei.day_of_week, mengfei.hours_worked, label='Mengfei')\n",
    "\n",
    "# Display plot\n",
    "plt.show()"
   ]
  },
  {
   "cell_type": "code",
   "execution_count": null,
   "metadata": {},
   "outputs": [],
   "source": [
    "# Officer Deshaun\n",
    "plt.plot(deshaun.day_of_week, deshaun.hours_worked, label='Deshaun')\n",
    "\n",
    "# Add a label to Aditya's plot\n",
    "plt.plot(aditya.day_of_week, aditya.hours_worked, label='Aditya')\n",
    "\n",
    "# Add a label to Mengfei's plot\n",
    "plt.plot(mengfei.day_of_week, mengfei.hours_worked, label='Mengfei')\n",
    "\n",
    "# Add a command to make the legend display\n",
    "plt.legend()\n",
    "\n",
    "# Display plot\n",
    "plt.show()"
   ]
  },
  {
   "cell_type": "markdown",
   "metadata": {},
   "source": [
    "Question\n",
    "One of the officers did not start working on the case until Wednesday. Which officer?\n",
    "\n",
    "Ans: Mengfei"
   ]
  },
  {
   "cell_type": "markdown",
   "metadata": {},
   "source": []
  },
  {
   "cell_type": "markdown",
   "metadata": {},
   "source": [
    "Adding labels"
   ]
  },
  {
   "cell_type": "code",
   "execution_count": null,
   "metadata": {},
   "outputs": [],
   "source": [
    "# Lines\n",
    "plt.plot(deshaun.day_of_week, deshaun.hours_worked, label='Deshaun')\n",
    "plt.plot(aditya.day_of_week, aditya.hours_worked, label='Aditya')\n",
    "plt.plot(mengfei.day_of_week, mengfei.hours_worked, label='Mengfei')\n",
    "\n",
    "# Add a title\n",
    "plt.title(\"Hours Worked\")\n",
    "\n",
    "# Add y-axis label\n",
    "plt.ylabel(\"Hours Worked\")\n",
    "\n",
    "# Legend\n",
    "plt.legend()\n",
    "# Display plot\n",
    "plt.show()"
   ]
  },
  {
   "cell_type": "markdown",
   "metadata": {},
   "source": [
    "Adding floating text"
   ]
  },
  {
   "cell_type": "code",
   "execution_count": null,
   "metadata": {},
   "outputs": [],
   "source": [
    "# Create plot\n",
    "plt.plot(six_months.month, six_months.hours_worked)\n",
    "\n",
    "# Add annotation \"Missing June data\" at (2.5, 80)\n",
    "plt.text(2.5, 80, \"Missing June data\")\n",
    "\n",
    "# Display graph\n",
    "plt.show()"
   ]
  },
  {
   "cell_type": "markdown",
   "metadata": {},
   "source": [
    "Tracking crime statistics"
   ]
  },
  {
   "cell_type": "code",
   "execution_count": null,
   "metadata": {},
   "outputs": [],
   "source": [
    "# Change the color of Phoenix to `\"DarkCyan\"`\n",
    "plt.plot(data[\"Year\"], data[\"Phoenix Police Dept\"], label=\"Phoenix\", color = \"DarkCyan\")\n",
    "\n",
    "# Make the Los Angeles line dotted\n",
    "plt.plot(data[\"Year\"], data[\"Los Angeles Police Dept\"], label=\"Los Angeles\", linestyle = ':')\n",
    "\n",
    "# Add square markers to Philedelphia\n",
    "plt.plot(data[\"Year\"], data[\"Philadelphia Police Dept\"], label=\"Philadelphia\", marker = 's')\n",
    "\n",
    "# Add a legend\n",
    "plt.legend()\n",
    "\n",
    "# Display the plot\n",
    "plt.show()"
   ]
  },
  {
   "cell_type": "markdown",
   "metadata": {},
   "source": [
    "Playing with styles"
   ]
  },
  {
   "cell_type": "code",
   "execution_count": null,
   "metadata": {},
   "outputs": [],
   "source": [
    "# Change the style to fivethirtyeight\n",
    "plt.style.use('fivethirtyeight')\n",
    "\n",
    "# Plot lines\n",
    "plt.plot(data[\"Year\"], data[\"Phoenix Police Dept\"], label=\"Phoenix\")\n",
    "plt.plot(data[\"Year\"], data[\"Los Angeles Police Dept\"], label=\"Los Angeles\")\n",
    "plt.plot(data[\"Year\"], data[\"Philadelphia Police Dept\"], label=\"Philadelphia\")\n",
    "\n",
    "# Add a legend\n",
    "plt.legend()\n",
    "\n",
    "# Display the plot\n",
    "plt.show()"
   ]
  },
  {
   "cell_type": "markdown",
   "metadata": {},
   "source": [
    "Identifying Bayes' kidnapper"
   ]
  },
  {
   "cell_type": "code",
   "execution_count": null,
   "metadata": {},
   "outputs": [],
   "source": [
    "# x should be ransom.letter and y should be ransom.frequency\n",
    "plt.plot(ransom.letter, ransom.frequency,\n",
    "         # Label should be \"Ransom\"\n",
    "         label=\"Ransom\",\n",
    "         # Plot the ransom letter as a dotted gray line\n",
    "         linestyle=':', color='gray')\n",
    "\n",
    "# Display the plot\n",
    "plt.show()"
   ]
  },
  {
   "cell_type": "code",
   "execution_count": null,
   "metadata": {},
   "outputs": [],
   "source": [
    "# Plot each line\n",
    "plt.plot(ransom.letter, ransom.frequency,\n",
    "         label='Ransom', linestyle=':', color='gray')\n",
    "\n",
    "# X-values should be suspect1.letter\n",
    "# Y-values should be suspect1.frequency\n",
    "# Label should be \"Fred Frequentist\"\n",
    "plt.plot(suspect1.letter, suspect1.frequency, label=\"Fred Frequentist\")\n",
    "\n",
    "# Display the plot\n",
    "plt.show()"
   ]
  },
  {
   "cell_type": "code",
   "execution_count": null,
   "metadata": {},
   "outputs": [],
   "source": [
    "# Plot each line\n",
    "plt.plot(ransom.letter, ransom.frequency,\n",
    "         label='Ransom', linestyle=':', color='gray')\n",
    "plt.plot(suspect1.letter, suspect1.frequency,\n",
    "         label='Fred Frequentist')\n",
    "\n",
    "# X-values should be suspect2.letter\n",
    "# Y-values should be suspect2.frequency\n",
    "# Label should be \"Gertrude Cox\"\n",
    "plt.plot(suspect2.letter, suspect2.frequency, label = 'Gertrude Cox')\n",
    "\n",
    "# Display plot\n",
    "plt.show()"
   ]
  },
  {
   "cell_type": "code",
   "execution_count": null,
   "metadata": {},
   "outputs": [],
   "source": [
    "# Plot each line\n",
    "plt.plot(ransom.letter, ransom.frequency,\n",
    "         label='Ransom', linestyle=':', color='gray')\n",
    "plt.plot(suspect1.letter, suspect1.frequency, label='Fred Frequentist')\n",
    "plt.plot(suspect2.letter, suspect2.frequency, label='Gertrude Cox')\n",
    "\n",
    "# Add x- and y-labels\n",
    "plt.xlabel(\"Letter\")\n",
    "plt.ylabel(\"Frequency\")\n",
    "\n",
    "# Add a legend\n",
    "plt.legend()\n",
    "\n",
    "# Display plot\n",
    "plt.show()"
   ]
  }
 ],
 "metadata": {
  "kernelspec": {
   "display_name": "Python 3.10.7 64-bit",
   "language": "python",
   "name": "python3"
  },
  "language_info": {
   "name": "python",
   "version": "3.10.7"
  },
  "orig_nbformat": 4,
  "vscode": {
   "interpreter": {
    "hash": "c6028a8a5a12648e78fa32d0f161bce4cccc9ded56ee541b56c5f14e4c0285c4"
   }
  }
 },
 "nbformat": 4,
 "nbformat_minor": 2
}
